{
  "nbformat": 4,
  "nbformat_minor": 0,
  "metadata": {
    "colab": {
      "provenance": [],
      "authorship_tag": "ABX9TyMOswwHIwQKqJXLmu8et1w4",
      "include_colab_link": true
    },
    "kernelspec": {
      "name": "python3",
      "display_name": "Python 3"
    },
    "language_info": {
      "name": "python"
    }
  },
  "cells": [
    {
      "cell_type": "markdown",
      "metadata": {
        "id": "view-in-github",
        "colab_type": "text"
      },
      "source": [
        "<a href=\"https://colab.research.google.com/github/JuanZapa7a/JoseAndres/blob/main/SincromodalSimple(JZStyle).ipynb\" target=\"_parent\"><img src=\"https://colab.research.google.com/assets/colab-badge.svg\" alt=\"Open In Colab\"/></a>"
      ]
    },
    {
      "cell_type": "markdown",
      "source": [
        "Montar Drive de google colab"
      ],
      "metadata": {
        "id": "YuwS1RiXpad0"
      }
    },
    {
      "cell_type": "code",
      "source": [
        "from google.colab import files\n",
        "from google.colab import drive\n",
        "drive.mount('/content/drive')"
      ],
      "metadata": {
        "colab": {
          "base_uri": "https://localhost:8080/"
        },
        "id": "ysaq-4C6q1QJ",
        "outputId": "66c70f49-9279-447f-99bd-e4dca62f0c91"
      },
      "execution_count": null,
      "outputs": [
        {
          "output_type": "stream",
          "name": "stdout",
          "text": [
            "Mounted at /content/drive\n"
          ]
        }
      ]
    },
    {
      "cell_type": "markdown",
      "source": [
        "Indicar ruta del archivo de licencias (que no tengo)"
      ],
      "metadata": {
        "id": "JhlVcCINrUj_"
      }
    },
    {
      "cell_type": "code",
      "source": [
        "import os\n",
        "import cvxpy as cp\n",
        "\n",
        "# Ruta donde se subió el archivo de licencia\n",
        "lic_path = '/content/drive/MyDrive/Colab Notebooks/Cargas/mosek.lic'  # Cambia esta ruta según sea necesario\n",
        "\n",
        "# Configurar la variable de entorno para que MOSEK pueda encontrar el archivo de licencia\n",
        "os.environ['MOSEKLM_LICENSE_FILE'] = lic_path\n",
        "\n",
        "print(cp.installed_solvers())"
      ],
      "metadata": {
        "colab": {
          "base_uri": "https://localhost:8080/"
        },
        "id": "qY8GnVN5rfIr",
        "outputId": "1c758cc1-8b64-437c-d390-f63bf834b90e"
      },
      "execution_count": null,
      "outputs": [
        {
          "output_type": "stream",
          "name": "stdout",
          "text": [
            "['CVXOPT', 'ECOS', 'ECOS_BB', 'GLPK', 'GLPK_MI', 'OSQP', 'SCIPY', 'SCS']\n"
          ]
        }
      ]
    },
    {
      "cell_type": "code",
      "source": [
        "!pip install cplex -q\n",
        "\n",
        "# def check_cplex_installed():\n",
        "#     try:\n",
        "#         import cplex\n",
        "#         print(\"CPLEX solver is installed.\")\n",
        "#     except ImportError:\n",
        "#         print(\"CPLEX solver is not installed.\")\n",
        "\n",
        "# check_cplex_installed()\n",
        "\n",
        "import cplex\n",
        "\n",
        "try:\n",
        "    cplex.Cplex()\n",
        "    print(\"CPLEX solver is installed.\")\n",
        "except:\n",
        "    print(\"CPLEX solver is not installed.\")"
      ],
      "metadata": {
        "colab": {
          "base_uri": "https://localhost:8080/"
        },
        "id": "ZLRc0Gossqb6",
        "outputId": "991fa00e-2a7f-4fd7-8160-a961aaa4bc2e"
      },
      "execution_count": null,
      "outputs": [
        {
          "output_type": "stream",
          "name": "stdout",
          "text": [
            "CPLEX solver is installed.\n"
          ]
        }
      ]
    },
    {
      "cell_type": "markdown",
      "source": [
        "Crear un problema de optimización"
      ],
      "metadata": {
        "id": "OmqCjUYotcU7"
      }
    },
    {
      "cell_type": "markdown",
      "source": [
        "Cambios sugeridos:\n",
        "\n",
        "Dado que CPLEX es un solucionador comercial, nos centraremos en utilizar el solucionador CBC de código abierto que viene incluido con PuLP.\n"
      ],
      "metadata": {
        "id": "UElEJYkyt6uX"
      }
    },
    {
      "source": [
        "!pip install pulp -q\n",
        "\n",
        "import pulp as pl\n",
        "\n",
        "# Crear un problema de optimización\n",
        "prob = pl.LpProblem(\"Ejemplo\", pl.LpMaximize)\n",
        "\n",
        "# Variables de decisión\n",
        "x = pl.LpVariable(\"x\", lowBound=0)\n",
        "y = pl.LpVariable(\"y\", lowBound=0)\n",
        "\n",
        "# Función objetivo\n",
        "prob += 3 * x + 2 * y\n",
        "\n",
        "# Restricciones\n",
        "prob += 2 * x + y <= 20\n",
        "prob += 4 * x - 5 * y >= -10\n",
        "prob += x <= 5\n",
        "prob += y <= 8\n",
        "\n",
        "# Resolver el problema using the CBC solver\n",
        "prob.solve()\n",
        "\n",
        "# Imprimir resultados\n",
        "print(\"Estado:\", pl.LpStatus[prob.status])\n",
        "print(\"Valor de x:\", pl.value(x))\n",
        "print(\"Valor de y:\", pl.value(y))\n",
        "print(\"Valor de la función objetivo:\", pl.value(prob.objective))"
      ],
      "cell_type": "code",
      "metadata": {
        "colab": {
          "base_uri": "https://localhost:8080/"
        },
        "id": "etr0UUyht-DK",
        "outputId": "8b8665b6-0eff-4a38-f67e-07e9630f9ab0"
      },
      "execution_count": null,
      "outputs": [
        {
          "output_type": "stream",
          "name": "stdout",
          "text": [
            "Estado: Optimal\n",
            "Valor de x: 5.0\n",
            "Valor de y: 6.0\n",
            "Valor de la función objetivo: 27.0\n"
          ]
        }
      ]
    },
    {
      "cell_type": "code",
      "source": [
        "# Importar la librería de PuLP\n",
        "import pulp as pl\n",
        "\n",
        "# Crear una instancia del problema de optimización\n",
        "prob = pl.LpProblem(\"Ejemplo\", pl.LpMaximize)\n",
        "\n",
        "# Definir las variables de decisión\n",
        "x = pl.LpVariable(\"x\", lowBound=0)\n",
        "y = pl.LpVariable(\"y\", lowBound=0)\n",
        "\n",
        "# Definir la función objetivo\n",
        "prob += 3 * x + 2 * y\n",
        "\n",
        "# Definir las restricciones\n",
        "prob += 2 * x + y <= 20\n",
        "prob += x + y <= 10\n",
        "\n",
        "# Resolver el problema utilizando el solver CBC\n",
        "prob.solve(pl.PULP_CBC_CMD())\n",
        "\n",
        "# Imprimir resultados\n",
        "print(\"Estado:\", pl.LpStatus[prob.status])\n",
        "print(\"Valor de x:\", pl.value(x))\n",
        "print(\"Valor de y:\", pl.value(y))\n",
        "print(\"Valor de la función objetivo:\", pl.value(prob.objective))"
      ],
      "metadata": {
        "colab": {
          "base_uri": "https://localhost:8080/"
        },
        "id": "49BXEstFuuPO",
        "outputId": "d555631a-58c8-4e0c-f4a2-b5580db4ccf3"
      },
      "execution_count": null,
      "outputs": [
        {
          "output_type": "stream",
          "name": "stdout",
          "text": [
            "Estado: Optimal\n",
            "Valor de x: 10.0\n",
            "Valor de y: 9.9831254e-13\n",
            "Valor de la función objetivo: 30.000000000001997\n"
          ]
        }
      ]
    },
    {
      "source": [
        "!apt-get install -y glpk-utils -q  # Make sure GLPK is installed\n",
        "\n",
        "!pip install pulp -q\n",
        "\n",
        "import pulp as pl\n",
        "import os\n",
        "\n",
        "# Crear un problema de optimización lineal\n",
        "prob = pl.LpProblem(\"Ejemplo_GLPK\", pl.LpMaximize)\n",
        "\n",
        "# Variables de decisión\n",
        "x = pl.LpVariable(\"x\", lowBound=0)\n",
        "y = pl.LpVariable(\"y\", lowBound=0)\n",
        "\n",
        "# Función objetivo\n",
        "prob += 3*x + 2*y, \"Función Objetivo\"\n",
        "\n",
        "# Restricciones\n",
        "prob += 2*x + y <= 20\n",
        "prob += 4*x - 5*y >= -10\n",
        "prob += x + 2*y <= 18\n",
        "\n",
        "# Specify the path to the temporary directory with write permissions\n",
        "temp_dir = '/tmp'  # You can change this to a suitable directory\n",
        "temp_file = os.path.join(temp_dir, 'glpk_temp.lp')\n",
        "\n",
        "# Write the problem to a temporary file\n",
        "prob.writeLP(temp_file)\n",
        "\n",
        "# Solve the problem using GLPK and specify the temporary file\n",
        "!glpsol --lp {temp_file} --cpxlp /tmp/glpk_result.lp  # Solve and save results\n",
        "\n",
        "# Instead of trying to read the solution, which is not supported by PuLP,\n",
        "# we can directly access the solution values after solving with GLPK.\n",
        "# PuLP automatically updates the variable values after the solver runs.\n",
        "\n",
        "# Imprimir resultados\n",
        "print(\"Estado:\", pl.LpStatus[prob.status])\n",
        "print(\"Valor de x =\", pl.value(x))\n",
        "print(\"Valor de y =\", pl.value(y))\n",
        "print(\"Valor óptimo de la función objetivo =\", pl.value(prob.objective))"
      ],
      "cell_type": "code",
      "metadata": {
        "colab": {
          "base_uri": "https://localhost:8080/"
        },
        "id": "6xVcruovwIp5",
        "outputId": "c67b19ca-bdfa-431d-a40e-55cfc7e6b4fa"
      },
      "execution_count": null,
      "outputs": [
        {
          "output_type": "stream",
          "name": "stdout",
          "text": [
            "Reading package lists...\n",
            "Building dependency tree...\n",
            "Reading state information...\n",
            "glpk-utils is already the newest version (5.0-1).\n",
            "0 upgraded, 0 newly installed, 0 to remove and 45 not upgraded.\n",
            "Only one input problem file allowed\n",
            "Estado: Not Solved\n",
            "Valor de x = None\n",
            "Valor de y = None\n",
            "Valor óptimo de la función objetivo = None\n"
          ]
        }
      ]
    },
    {
      "source": [
        "#import os\n",
        "\n",
        "# Ruta donde se subió el archivo de licencia\n",
        "lic_path = '/content/drive/MyDrive/Colab Notebooks/Cargas/mosek.lic'  # Cambia esta ruta según sea necesario\n",
        "\n",
        "# Configurar la variable de entorno para que MOSEK pueda encontrar el archivo de licencia\n",
        "# os.environ['MOSEKLM_LICENSE_FILE'] = lic_path # Commented out since MOSEK is not installed\n",
        "\n",
        "# Definir variables\n",
        "x = cp.Variable()\n",
        "y = cp.Variable()\n",
        "\n",
        "# Definir restricciones\n",
        "constraints = [\n",
        "    x + y == 1,\n",
        "    x - y >= 1\n",
        "]\n",
        "\n",
        "# Definir función objetivo\n",
        "objective = cp.Minimize((x - y)**2)\n",
        "\n",
        "# Crear el problema\n",
        "problem = cp.Problem(objective, constraints)\n",
        "\n",
        "# Resolver el problema usando ECOS\n",
        "result = problem.solve(solver=cp.ECOS, verbose=True) # Changed solver to ECOS\n",
        "\n",
        "# Mostrar los resultados\n",
        "print(f\"Estado del problema: {problem.status}\")\n",
        "print(f\"Valor óptimo: {problem.value}\")\n",
        "print(f\"x: {x.value}\")\n",
        "print(f\"y: {y.value}\")"
      ],
      "cell_type": "code",
      "metadata": {
        "colab": {
          "base_uri": "https://localhost:8080/"
        },
        "id": "0BoAalMUwi9O",
        "outputId": "d1520499-2070-4142-ed3e-38a003b8a694"
      },
      "execution_count": null,
      "outputs": [
        {
          "output_type": "stream",
          "name": "stdout",
          "text": [
            "===============================================================================\n",
            "                                     CVXPY                                     \n",
            "                                     v1.3.4                                    \n",
            "===============================================================================\n",
            "(CVXPY) Jul 07 03:13:54 PM: Your problem has 2 variables, 2 constraints, and 0 parameters.\n",
            "(CVXPY) Jul 07 03:13:54 PM: It is compliant with the following grammars: DCP, DQCP\n",
            "(CVXPY) Jul 07 03:13:54 PM: (If you need to solve this problem multiple times, but with different data, consider using parameters.)\n",
            "(CVXPY) Jul 07 03:13:54 PM: CVXPY will first compile your problem; then, it will invoke a numerical solver to obtain a solution.\n",
            "-------------------------------------------------------------------------------\n",
            "                                  Compilation                                  \n",
            "-------------------------------------------------------------------------------\n",
            "(CVXPY) Jul 07 03:13:54 PM: Compiling problem (target solver=ECOS).\n",
            "(CVXPY) Jul 07 03:13:54 PM: Reduction chain: Dcp2Cone -> CvxAttr2Constr -> ConeMatrixStuffing -> ECOS\n",
            "(CVXPY) Jul 07 03:13:54 PM: Applying reduction Dcp2Cone\n",
            "(CVXPY) Jul 07 03:13:54 PM: Applying reduction CvxAttr2Constr\n",
            "(CVXPY) Jul 07 03:13:54 PM: Applying reduction ConeMatrixStuffing\n",
            "(CVXPY) Jul 07 03:13:54 PM: Applying reduction ECOS\n",
            "(CVXPY) Jul 07 03:13:54 PM: Finished problem compilation (took 5.859e-02 seconds).\n",
            "-------------------------------------------------------------------------------\n",
            "                                Numerical solver                               \n",
            "-------------------------------------------------------------------------------\n",
            "(CVXPY) Jul 07 03:13:54 PM: Invoking solver ECOS  to obtain a solution.\n",
            "-------------------------------------------------------------------------------\n",
            "                                    Summary                                    \n",
            "-------------------------------------------------------------------------------\n",
            "(CVXPY) Jul 07 03:13:54 PM: Problem status: optimal\n",
            "(CVXPY) Jul 07 03:13:54 PM: Optimal value: 1.000e+00\n",
            "(CVXPY) Jul 07 03:13:54 PM: Compilation took 5.859e-02 seconds\n",
            "(CVXPY) Jul 07 03:13:54 PM: Solver (including time spent in interface) took 1.839e-03 seconds\n",
            "Estado del problema: optimal\n",
            "Valor óptimo: 1.0000000000479847\n",
            "x: 1.0000000000119962\n",
            "y: -1.1996184170199075e-11\n"
          ]
        }
      ]
    }
  ]
}